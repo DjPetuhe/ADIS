{
 "cells": [
  {
   "cell_type": "markdown",
   "metadata": {},
   "source": [
    "Міністерство освіти і науки України \n",
    "\n",
    "Національний технічний університет України «КПІ ім. Ігоря Сікорського»\n",
    "\n",
    "Факультет інформатики та обчислювальної техніки\n",
    "\n",
    "Кафедра інформатики та програмної інженерії\n",
    "\n",
    "Аналіз даних в інформаційно-управляючих системах\n",
    "\n",
    "Виконанав студент:\n",
    "\n",
    "ІП-01 Хернуф Валід Алі-Еддін\n",
    "\n",
    "Київ 2022\n",
    "\n",
    "\n",
    "---\n",
    "\n",
    "# **Звіт до лабораторної роботи №5**"
   ]
  },
  {
   "cell_type": "markdown",
   "metadata": {},
   "source": [
    "## **Основне завдання**"
   ]
  },
  {
   "cell_type": "markdown",
   "metadata": {},
   "source": [
    "Спочатку імпортуємо усі потрібні бібліотеки для праці: matplotlib.pyplot, scipy.stats, pandas, numpy та деяки дяки методи з бібліотеки sklearn."
   ]
  },
  {
   "cell_type": "code",
   "execution_count": 1,
   "metadata": {},
   "outputs": [],
   "source": [
    "import matplotlib.pyplot as pyp\n",
    "import scipy.stats as st\n",
    "import pandas as p\n",
    "import numpy as n\n",
    "from sklearn.model_selection import train_test_split\n",
    "from sklearn.linear_model import LinearRegression\n",
    "from sklearn.preprocessing import PolynomialFeatures\n",
    "from sklearn.pipeline import make_pipeline\n",
    "from sklearn.model_selection import train_test_split\n",
    "from sklearn.linear_model import LinearRegression\n",
    "from sklearn.metrics import mean_squared_error\n",
    "from sklearn.metrics import r2_score"
   ]
  },
  {
   "cell_type": "markdown",
   "metadata": {},
   "source": [
    "Завантажимо дані із файлу winequality-red.csv:"
   ]
  },
  {
   "cell_type": "code",
   "execution_count": 2,
   "metadata": {},
   "outputs": [],
   "source": [
    "def read_dataset(path, separ, en):\n",
    "    return p.read_csv(path, sep = separ, encoding = en)\n",
    "\n",
    "dFrame = read_dataset(\"winequality-red.csv\", ',', 'cp1252')"
   ]
  },
  {
   "cell_type": "markdown",
   "metadata": {},
   "source": [
    "### 1. Дослідження даних та їх підготовка для побудови регресійної моделі"
   ]
  },
  {
   "cell_type": "code",
   "execution_count": 3,
   "metadata": {},
   "outputs": [
    {
     "name": "stdout",
     "output_type": "stream",
     "text": [
      "<class 'pandas.core.frame.DataFrame'>\n",
      "RangeIndex: 1599 entries, 0 to 1598\n",
      "Data columns (total 12 columns):\n",
      " #   Column                Non-Null Count  Dtype  \n",
      "---  ------                --------------  -----  \n",
      " 0   fixed acidity         1599 non-null   float64\n",
      " 1   volatile acidity      1599 non-null   float64\n",
      " 2   citric acid           1599 non-null   float64\n",
      " 3   residual sugar        1599 non-null   float64\n",
      " 4   chlorides             1599 non-null   float64\n",
      " 5   free sulfur dioxide   1599 non-null   float64\n",
      " 6   total sulfur dioxide  1599 non-null   float64\n",
      " 7   density               1599 non-null   float64\n",
      " 8   pH                    1599 non-null   float64\n",
      " 9   sulphates             1599 non-null   float64\n",
      " 10  alcohol               1599 non-null   float64\n",
      " 11  quality               1599 non-null   int64  \n",
      "dtypes: float64(11), int64(1)\n",
      "memory usage: 150.0 KB\n"
     ]
    }
   ],
   "source": [
    "dFrame.info()"
   ]
  },
  {
   "cell_type": "markdown",
   "metadata": {},
   "source": [
    "Всі значення мають коректний тип даних та мають однакову кілкість, тобто пустих значень немає. Для підтвердження зробимо перевірку на негативні та порожні значення:"
   ]
  },
  {
   "cell_type": "code",
   "execution_count": 4,
   "metadata": {},
   "outputs": [
    {
     "name": "stdout",
     "output_type": "stream",
     "text": [
      "Is there any nan: False\n",
      "Is there any negative: False\n"
     ]
    }
   ],
   "source": [
    "print(f\"Is there any nan: {dFrame.isnull().values.any()}\")\n",
    "\n",
    "print(f\"Is there any negative: {(dFrame < 0).values.any()}\")"
   ]
  },
  {
   "cell_type": "markdown",
   "metadata": {},
   "source": [
    "Після підтверждення що всі значення ненульові та позитивні, перевіримо чи нормально розподілені стовпці за допомогою тестів Комлагорова-Смірнова та Пірсона:"
   ]
  },
  {
   "cell_type": "code",
   "execution_count": 5,
   "metadata": {},
   "outputs": [
    {
     "name": "stdout",
     "output_type": "stream",
     "text": [
      "#1 test - Kolmagorov-Smirnov test,\n",
      "#2 test - Pearson test\n",
      "\n",
      "fixed acidity:          #1 test - False, #2 test - False;\n",
      "volatile acidity:       #1 test - False, #2 test - False;\n",
      "citric acid:            #1 test - False, #2 test - False;\n",
      "residual sugar:         #1 test - False, #2 test - False;\n",
      "chlorides:              #1 test - False, #2 test - False;\n",
      "free sulfur dioxide:    #1 test - False, #2 test - False;\n",
      "total sulfur dioxide:   #1 test - False, #2 test - False;\n",
      "density:                #1 test - False, #2 test - False;\n",
      "pH:                     #1 test - False, #2 test - False;\n",
      "sulphates:              #1 test - False, #2 test - False;\n",
      "alcohol:                #1 test - False, #2 test - False;\n",
      "quality:                #1 test - False, #2 test - False;\n"
     ]
    }
   ],
   "source": [
    "def kolm_smirn_check(dFrame, column):\n",
    "    ks_statistic, p_value = st.kstest(dFrame[column], 'norm')\n",
    "    if p_value > 0.05: return True\n",
    "    return False\n",
    "\n",
    "def pearson_check(dFrame, column):\n",
    "    statistic, p_value = st.normaltest(dFrame[column])\n",
    "    if p_value > 0.05: return True\n",
    "    return False\n",
    "\n",
    "print(\"#1 test - Kolmagorov-Smirnov test,\\n#2 test - Pearson test\\n\")\n",
    "for c in dFrame.columns:\n",
    "    print('{0:<23}'.format(c + \":\"),f\"#1 test - {kolm_smirn_check(dFrame, c)}, #2 test - {pearson_check(dFrame, c)};\")"
   ]
  },
  {
   "cell_type": "markdown",
   "metadata": {},
   "source": [
    "Жодний з стовпців розподілен нормально. Подивимось на матрицю корреляцій:"
   ]
  },
  {
   "cell_type": "code",
   "execution_count": 6,
   "metadata": {},
   "outputs": [
    {
     "data": {
      "text/html": [
       "<div>\n",
       "<style scoped>\n",
       "    .dataframe tbody tr th:only-of-type {\n",
       "        vertical-align: middle;\n",
       "    }\n",
       "\n",
       "    .dataframe tbody tr th {\n",
       "        vertical-align: top;\n",
       "    }\n",
       "\n",
       "    .dataframe thead th {\n",
       "        text-align: right;\n",
       "    }\n",
       "</style>\n",
       "<table border=\"1\" class=\"dataframe\">\n",
       "  <thead>\n",
       "    <tr style=\"text-align: right;\">\n",
       "      <th></th>\n",
       "      <th>fixed acidity</th>\n",
       "      <th>volatile acidity</th>\n",
       "      <th>citric acid</th>\n",
       "      <th>residual sugar</th>\n",
       "      <th>chlorides</th>\n",
       "      <th>free sulfur dioxide</th>\n",
       "      <th>total sulfur dioxide</th>\n",
       "      <th>density</th>\n",
       "      <th>pH</th>\n",
       "      <th>sulphates</th>\n",
       "      <th>alcohol</th>\n",
       "      <th>quality</th>\n",
       "    </tr>\n",
       "  </thead>\n",
       "  <tbody>\n",
       "    <tr>\n",
       "      <th>fixed acidity</th>\n",
       "      <td>1.000000</td>\n",
       "      <td>-0.256131</td>\n",
       "      <td>0.671703</td>\n",
       "      <td>0.114777</td>\n",
       "      <td>0.093705</td>\n",
       "      <td>-0.153794</td>\n",
       "      <td>-0.113181</td>\n",
       "      <td>0.668047</td>\n",
       "      <td>-0.682978</td>\n",
       "      <td>0.183006</td>\n",
       "      <td>-0.061668</td>\n",
       "      <td>0.124052</td>\n",
       "    </tr>\n",
       "    <tr>\n",
       "      <th>volatile acidity</th>\n",
       "      <td>-0.256131</td>\n",
       "      <td>1.000000</td>\n",
       "      <td>-0.552496</td>\n",
       "      <td>0.001918</td>\n",
       "      <td>0.061298</td>\n",
       "      <td>-0.010504</td>\n",
       "      <td>0.076470</td>\n",
       "      <td>0.022026</td>\n",
       "      <td>0.234937</td>\n",
       "      <td>-0.260987</td>\n",
       "      <td>-0.202288</td>\n",
       "      <td>-0.390558</td>\n",
       "    </tr>\n",
       "    <tr>\n",
       "      <th>citric acid</th>\n",
       "      <td>0.671703</td>\n",
       "      <td>-0.552496</td>\n",
       "      <td>1.000000</td>\n",
       "      <td>0.143577</td>\n",
       "      <td>0.203823</td>\n",
       "      <td>-0.060978</td>\n",
       "      <td>0.035533</td>\n",
       "      <td>0.364947</td>\n",
       "      <td>-0.541904</td>\n",
       "      <td>0.312770</td>\n",
       "      <td>0.109903</td>\n",
       "      <td>0.226373</td>\n",
       "    </tr>\n",
       "    <tr>\n",
       "      <th>residual sugar</th>\n",
       "      <td>0.114777</td>\n",
       "      <td>0.001918</td>\n",
       "      <td>0.143577</td>\n",
       "      <td>1.000000</td>\n",
       "      <td>0.055610</td>\n",
       "      <td>0.187049</td>\n",
       "      <td>0.203028</td>\n",
       "      <td>0.355283</td>\n",
       "      <td>-0.085652</td>\n",
       "      <td>0.005527</td>\n",
       "      <td>0.042075</td>\n",
       "      <td>0.013732</td>\n",
       "    </tr>\n",
       "    <tr>\n",
       "      <th>chlorides</th>\n",
       "      <td>0.093705</td>\n",
       "      <td>0.061298</td>\n",
       "      <td>0.203823</td>\n",
       "      <td>0.055610</td>\n",
       "      <td>1.000000</td>\n",
       "      <td>0.005562</td>\n",
       "      <td>0.047400</td>\n",
       "      <td>0.200632</td>\n",
       "      <td>-0.265026</td>\n",
       "      <td>0.371260</td>\n",
       "      <td>-0.221141</td>\n",
       "      <td>-0.128907</td>\n",
       "    </tr>\n",
       "    <tr>\n",
       "      <th>free sulfur dioxide</th>\n",
       "      <td>-0.153794</td>\n",
       "      <td>-0.010504</td>\n",
       "      <td>-0.060978</td>\n",
       "      <td>0.187049</td>\n",
       "      <td>0.005562</td>\n",
       "      <td>1.000000</td>\n",
       "      <td>0.667666</td>\n",
       "      <td>-0.021946</td>\n",
       "      <td>0.070377</td>\n",
       "      <td>0.051658</td>\n",
       "      <td>-0.069408</td>\n",
       "      <td>-0.050656</td>\n",
       "    </tr>\n",
       "    <tr>\n",
       "      <th>total sulfur dioxide</th>\n",
       "      <td>-0.113181</td>\n",
       "      <td>0.076470</td>\n",
       "      <td>0.035533</td>\n",
       "      <td>0.203028</td>\n",
       "      <td>0.047400</td>\n",
       "      <td>0.667666</td>\n",
       "      <td>1.000000</td>\n",
       "      <td>0.071269</td>\n",
       "      <td>-0.066495</td>\n",
       "      <td>0.042947</td>\n",
       "      <td>-0.205654</td>\n",
       "      <td>-0.185100</td>\n",
       "    </tr>\n",
       "    <tr>\n",
       "      <th>density</th>\n",
       "      <td>0.668047</td>\n",
       "      <td>0.022026</td>\n",
       "      <td>0.364947</td>\n",
       "      <td>0.355283</td>\n",
       "      <td>0.200632</td>\n",
       "      <td>-0.021946</td>\n",
       "      <td>0.071269</td>\n",
       "      <td>1.000000</td>\n",
       "      <td>-0.341699</td>\n",
       "      <td>0.148506</td>\n",
       "      <td>-0.496180</td>\n",
       "      <td>-0.174919</td>\n",
       "    </tr>\n",
       "    <tr>\n",
       "      <th>pH</th>\n",
       "      <td>-0.682978</td>\n",
       "      <td>0.234937</td>\n",
       "      <td>-0.541904</td>\n",
       "      <td>-0.085652</td>\n",
       "      <td>-0.265026</td>\n",
       "      <td>0.070377</td>\n",
       "      <td>-0.066495</td>\n",
       "      <td>-0.341699</td>\n",
       "      <td>1.000000</td>\n",
       "      <td>-0.196648</td>\n",
       "      <td>0.205633</td>\n",
       "      <td>-0.057731</td>\n",
       "    </tr>\n",
       "    <tr>\n",
       "      <th>sulphates</th>\n",
       "      <td>0.183006</td>\n",
       "      <td>-0.260987</td>\n",
       "      <td>0.312770</td>\n",
       "      <td>0.005527</td>\n",
       "      <td>0.371260</td>\n",
       "      <td>0.051658</td>\n",
       "      <td>0.042947</td>\n",
       "      <td>0.148506</td>\n",
       "      <td>-0.196648</td>\n",
       "      <td>1.000000</td>\n",
       "      <td>0.093595</td>\n",
       "      <td>0.251397</td>\n",
       "    </tr>\n",
       "    <tr>\n",
       "      <th>alcohol</th>\n",
       "      <td>-0.061668</td>\n",
       "      <td>-0.202288</td>\n",
       "      <td>0.109903</td>\n",
       "      <td>0.042075</td>\n",
       "      <td>-0.221141</td>\n",
       "      <td>-0.069408</td>\n",
       "      <td>-0.205654</td>\n",
       "      <td>-0.496180</td>\n",
       "      <td>0.205633</td>\n",
       "      <td>0.093595</td>\n",
       "      <td>1.000000</td>\n",
       "      <td>0.476166</td>\n",
       "    </tr>\n",
       "    <tr>\n",
       "      <th>quality</th>\n",
       "      <td>0.124052</td>\n",
       "      <td>-0.390558</td>\n",
       "      <td>0.226373</td>\n",
       "      <td>0.013732</td>\n",
       "      <td>-0.128907</td>\n",
       "      <td>-0.050656</td>\n",
       "      <td>-0.185100</td>\n",
       "      <td>-0.174919</td>\n",
       "      <td>-0.057731</td>\n",
       "      <td>0.251397</td>\n",
       "      <td>0.476166</td>\n",
       "      <td>1.000000</td>\n",
       "    </tr>\n",
       "  </tbody>\n",
       "</table>\n",
       "</div>"
      ],
      "text/plain": [
       "                      fixed acidity  volatile acidity  citric acid  \\\n",
       "fixed acidity              1.000000         -0.256131     0.671703   \n",
       "volatile acidity          -0.256131          1.000000    -0.552496   \n",
       "citric acid                0.671703         -0.552496     1.000000   \n",
       "residual sugar             0.114777          0.001918     0.143577   \n",
       "chlorides                  0.093705          0.061298     0.203823   \n",
       "free sulfur dioxide       -0.153794         -0.010504    -0.060978   \n",
       "total sulfur dioxide      -0.113181          0.076470     0.035533   \n",
       "density                    0.668047          0.022026     0.364947   \n",
       "pH                        -0.682978          0.234937    -0.541904   \n",
       "sulphates                  0.183006         -0.260987     0.312770   \n",
       "alcohol                   -0.061668         -0.202288     0.109903   \n",
       "quality                    0.124052         -0.390558     0.226373   \n",
       "\n",
       "                      residual sugar  chlorides  free sulfur dioxide  \\\n",
       "fixed acidity               0.114777   0.093705            -0.153794   \n",
       "volatile acidity            0.001918   0.061298            -0.010504   \n",
       "citric acid                 0.143577   0.203823            -0.060978   \n",
       "residual sugar              1.000000   0.055610             0.187049   \n",
       "chlorides                   0.055610   1.000000             0.005562   \n",
       "free sulfur dioxide         0.187049   0.005562             1.000000   \n",
       "total sulfur dioxide        0.203028   0.047400             0.667666   \n",
       "density                     0.355283   0.200632            -0.021946   \n",
       "pH                         -0.085652  -0.265026             0.070377   \n",
       "sulphates                   0.005527   0.371260             0.051658   \n",
       "alcohol                     0.042075  -0.221141            -0.069408   \n",
       "quality                     0.013732  -0.128907            -0.050656   \n",
       "\n",
       "                      total sulfur dioxide   density        pH  sulphates  \\\n",
       "fixed acidity                    -0.113181  0.668047 -0.682978   0.183006   \n",
       "volatile acidity                  0.076470  0.022026  0.234937  -0.260987   \n",
       "citric acid                       0.035533  0.364947 -0.541904   0.312770   \n",
       "residual sugar                    0.203028  0.355283 -0.085652   0.005527   \n",
       "chlorides                         0.047400  0.200632 -0.265026   0.371260   \n",
       "free sulfur dioxide               0.667666 -0.021946  0.070377   0.051658   \n",
       "total sulfur dioxide              1.000000  0.071269 -0.066495   0.042947   \n",
       "density                           0.071269  1.000000 -0.341699   0.148506   \n",
       "pH                               -0.066495 -0.341699  1.000000  -0.196648   \n",
       "sulphates                         0.042947  0.148506 -0.196648   1.000000   \n",
       "alcohol                          -0.205654 -0.496180  0.205633   0.093595   \n",
       "quality                          -0.185100 -0.174919 -0.057731   0.251397   \n",
       "\n",
       "                       alcohol   quality  \n",
       "fixed acidity        -0.061668  0.124052  \n",
       "volatile acidity     -0.202288 -0.390558  \n",
       "citric acid           0.109903  0.226373  \n",
       "residual sugar        0.042075  0.013732  \n",
       "chlorides            -0.221141 -0.128907  \n",
       "free sulfur dioxide  -0.069408 -0.050656  \n",
       "total sulfur dioxide -0.205654 -0.185100  \n",
       "density              -0.496180 -0.174919  \n",
       "pH                    0.205633 -0.057731  \n",
       "sulphates             0.093595  0.251397  \n",
       "alcohol               1.000000  0.476166  \n",
       "quality               0.476166  1.000000  "
      ]
     },
     "execution_count": 6,
     "metadata": {},
     "output_type": "execute_result"
    }
   ],
   "source": [
    "dFrame.corr()"
   ]
  },
  {
   "cell_type": "markdown",
   "metadata": {},
   "source": [
    "### 2. Розділення даних на навчальну та тестову вибірки"
   ]
  },
  {
   "cell_type": "code",
   "execution_count": 7,
   "metadata": {},
   "outputs": [],
   "source": [
    "first = dFrame.iloc[:, :11]\n",
    "second = dFrame['quality']\n",
    "f_train, f_test, s_train, s_test = train_test_split(first, second, test_size=0.33, random_state = 10)"
   ]
  },
  {
   "cell_type": "markdown",
   "metadata": {},
   "source": [
    "### 3. Побудова декількьох регресійних моделей для прогнозу якості вина"
   ]
  },
  {
   "cell_type": "code",
   "execution_count": 8,
   "metadata": {},
   "outputs": [],
   "source": [
    "r_models = [LinearRegression().fit(f_train, s_train)]\n",
    "for i in range(2, 5):\n",
    "    r_models.append(make_pipeline(PolynomialFeatures(degree=i) , LinearRegression()))\n",
    "    r_models[i - 1].fit(f_train, s_train)"
   ]
  },
  {
   "cell_type": "markdown",
   "metadata": {},
   "source": [
    "### 4. З'ясування яка з моделей краща"
   ]
  },
  {
   "cell_type": "code",
   "execution_count": 9,
   "metadata": {},
   "outputs": [],
   "source": [
    "mse = []\n",
    "r_2 = []\n",
    "for r_model in r_models:\n",
    "    predict = r_model.predict(f_test)\n",
    "    mse.append(mean_squared_error(s_test, predict))\n",
    "    r_2.append(r2_score(s_test, predict))"
   ]
  },
  {
   "cell_type": "markdown",
   "metadata": {},
   "source": [
    "Знайдемо накращу модель за допомогою RSE та коефіцієнтом R^2:"
   ]
  },
  {
   "cell_type": "code",
   "execution_count": 10,
   "metadata": {},
   "outputs": [
    {
     "name": "stdout",
     "output_type": "stream",
     "text": [
      "Best rse index:  1\n",
      "Best r_2 index:  1\n"
     ]
    }
   ],
   "source": [
    "rse_s = []\n",
    "r_2_s = []\n",
    "\n",
    "for r_model in r_models:\n",
    "    rse_s.append(((n.sum(n.square(s_test - r_model.predict(f_test))))/(len(s_test) - 2)) ** 0.5)\n",
    "    r_2_s.append(r2_score(s_test, r_model.predict(f_test)))\n",
    "print('Best rse index: ', n.argmin(rse_s) + 1)\n",
    "print('Best r_2 index: ', n.argmax(r_2_s) + 1)"
   ]
  },
  {
   "cell_type": "markdown",
   "metadata": {},
   "source": [
    "Бачимо, що накрайщою моделлю є лінійна."
   ]
  },
  {
   "cell_type": "markdown",
   "metadata": {},
   "source": [
    "## **Додаткове завдання**"
   ]
  },
  {
   "cell_type": "markdown",
   "metadata": {},
   "source": [
    "Завантажимо дані із Data4.csv, змінимо назву першого стовпчика та змінимо тип данних деяких стовпців:"
   ]
  },
  {
   "cell_type": "code",
   "execution_count": 11,
   "metadata": {},
   "outputs": [
    {
     "name": "stdout",
     "output_type": "stream",
     "text": [
      "<class 'pandas.core.frame.DataFrame'>\n",
      "RangeIndex: 132 entries, 0 to 131\n",
      "Data columns (total 7 columns):\n",
      " #   Column   Non-Null Count  Dtype  \n",
      "---  ------   --------------  -----  \n",
      " 0   Country  132 non-null    object \n",
      " 1   ISO      132 non-null    object \n",
      " 2   UA       132 non-null    object \n",
      " 3   Cql      132 non-null    float64\n",
      " 4   Ie       132 non-null    float64\n",
      " 5   Iec      132 non-null    float64\n",
      " 6   Is       132 non-null    float64\n",
      "dtypes: float64(4), object(3)\n",
      "memory usage: 5.7+ KB\n"
     ]
    },
    {
     "data": {
      "text/html": [
       "<div>\n",
       "<style scoped>\n",
       "    .dataframe tbody tr th:only-of-type {\n",
       "        vertical-align: middle;\n",
       "    }\n",
       "\n",
       "    .dataframe tbody tr th {\n",
       "        vertical-align: top;\n",
       "    }\n",
       "\n",
       "    .dataframe thead th {\n",
       "        text-align: right;\n",
       "    }\n",
       "</style>\n",
       "<table border=\"1\" class=\"dataframe\">\n",
       "  <thead>\n",
       "    <tr style=\"text-align: right;\">\n",
       "      <th></th>\n",
       "      <th>Country</th>\n",
       "      <th>ISO</th>\n",
       "      <th>UA</th>\n",
       "      <th>Cql</th>\n",
       "      <th>Ie</th>\n",
       "      <th>Iec</th>\n",
       "      <th>Is</th>\n",
       "    </tr>\n",
       "  </thead>\n",
       "  <tbody>\n",
       "    <tr>\n",
       "      <th>0</th>\n",
       "      <td>Albania</td>\n",
       "      <td>ALB</td>\n",
       "      <td>Албанія</td>\n",
       "      <td>0.973924</td>\n",
       "      <td>0.605348</td>\n",
       "      <td>0.538673</td>\n",
       "      <td>0.510113</td>\n",
       "    </tr>\n",
       "    <tr>\n",
       "      <th>1</th>\n",
       "      <td>Algeria</td>\n",
       "      <td>DZA</td>\n",
       "      <td>Алжир</td>\n",
       "      <td>0.782134</td>\n",
       "      <td>0.587219</td>\n",
       "      <td>0.348159</td>\n",
       "      <td>0.497986</td>\n",
       "    </tr>\n",
       "    <tr>\n",
       "      <th>2</th>\n",
       "      <td>Angola</td>\n",
       "      <td>AGO</td>\n",
       "      <td>Ангола</td>\n",
       "      <td>0.372344</td>\n",
       "      <td>0.274394</td>\n",
       "      <td>0.332117</td>\n",
       "      <td>0.346907</td>\n",
       "    </tr>\n",
       "    <tr>\n",
       "      <th>3</th>\n",
       "      <td>Argentina</td>\n",
       "      <td>ARG</td>\n",
       "      <td>Аргентина</td>\n",
       "      <td>0.883830</td>\n",
       "      <td>0.699685</td>\n",
       "      <td>0.281995</td>\n",
       "      <td>0.518820</td>\n",
       "    </tr>\n",
       "    <tr>\n",
       "      <th>4</th>\n",
       "      <td>Armenia</td>\n",
       "      <td>ARM</td>\n",
       "      <td>Вірменія</td>\n",
       "      <td>1.016499</td>\n",
       "      <td>0.718327</td>\n",
       "      <td>0.535648</td>\n",
       "      <td>0.486498</td>\n",
       "    </tr>\n",
       "  </tbody>\n",
       "</table>\n",
       "</div>"
      ],
      "text/plain": [
       "     Country  ISO         UA       Cql        Ie       Iec        Is\n",
       "0    Albania  ALB    Албанія  0.973924  0.605348  0.538673  0.510113\n",
       "1    Algeria  DZA      Алжир  0.782134  0.587219  0.348159  0.497986\n",
       "2     Angola  AGO     Ангола  0.372344  0.274394  0.332117  0.346907\n",
       "3  Argentina  ARG  Аргентина  0.883830  0.699685  0.281995  0.518820\n",
       "4    Armenia  ARM   Вірменія  1.016499  0.718327  0.535648  0.486498"
      ]
     },
     "execution_count": 11,
     "metadata": {},
     "output_type": "execute_result"
    }
   ],
   "source": [
    "def set_column_type_float(dFrame, column):\n",
    "    dFrame[column] = dFrame[column].str.replace(',', '.').astype(float)\n",
    "\n",
    "def data_fix(dFrame):\n",
    "    dFrame.columns.values[0] = \"Country\"\n",
    "    for i in range(3,7):\n",
    "        set_column_type_float(dFrame, dFrame.columns[i])\n",
    "    return dFrame\n",
    "\n",
    "dFrame = read_dataset(\"Data4.csv\", ';', 'cp1251')\n",
    "dFrame = data_fix(dFrame)\n",
    "dFrame.info()\n",
    "dFrame.head(5)"
   ]
  },
  {
   "cell_type": "markdown",
   "metadata": {},
   "source": [
    "### 1. Дослідження даних, визначення чи є мультиколінеарність, побудування діаграми розсіювання"
   ]
  },
  {
   "cell_type": "markdown",
   "metadata": {},
   "source": [
    "Подивимось на матрицю кореляцій для з'ясування мультиколінеарності параметрів:"
   ]
  },
  {
   "cell_type": "code",
   "execution_count": 12,
   "metadata": {},
   "outputs": [
    {
     "data": {
      "text/html": [
       "<div>\n",
       "<style scoped>\n",
       "    .dataframe tbody tr th:only-of-type {\n",
       "        vertical-align: middle;\n",
       "    }\n",
       "\n",
       "    .dataframe tbody tr th {\n",
       "        vertical-align: top;\n",
       "    }\n",
       "\n",
       "    .dataframe thead th {\n",
       "        text-align: right;\n",
       "    }\n",
       "</style>\n",
       "<table border=\"1\" class=\"dataframe\">\n",
       "  <thead>\n",
       "    <tr style=\"text-align: right;\">\n",
       "      <th></th>\n",
       "      <th>Cql</th>\n",
       "      <th>Ie</th>\n",
       "      <th>Iec</th>\n",
       "      <th>Is</th>\n",
       "    </tr>\n",
       "  </thead>\n",
       "  <tbody>\n",
       "    <tr>\n",
       "      <th>Cql</th>\n",
       "      <td>1.000000</td>\n",
       "      <td>0.883664</td>\n",
       "      <td>0.875545</td>\n",
       "      <td>0.939172</td>\n",
       "    </tr>\n",
       "    <tr>\n",
       "      <th>Ie</th>\n",
       "      <td>0.883664</td>\n",
       "      <td>1.000000</td>\n",
       "      <td>0.619247</td>\n",
       "      <td>0.746320</td>\n",
       "    </tr>\n",
       "    <tr>\n",
       "      <th>Iec</th>\n",
       "      <td>0.875545</td>\n",
       "      <td>0.619247</td>\n",
       "      <td>1.000000</td>\n",
       "      <td>0.799211</td>\n",
       "    </tr>\n",
       "    <tr>\n",
       "      <th>Is</th>\n",
       "      <td>0.939172</td>\n",
       "      <td>0.746320</td>\n",
       "      <td>0.799211</td>\n",
       "      <td>1.000000</td>\n",
       "    </tr>\n",
       "  </tbody>\n",
       "</table>\n",
       "</div>"
      ],
      "text/plain": [
       "          Cql        Ie       Iec        Is\n",
       "Cql  1.000000  0.883664  0.875545  0.939172\n",
       "Ie   0.883664  1.000000  0.619247  0.746320\n",
       "Iec  0.875545  0.619247  1.000000  0.799211\n",
       "Is   0.939172  0.746320  0.799211  1.000000"
      ]
     },
     "execution_count": 12,
     "metadata": {},
     "output_type": "execute_result"
    }
   ],
   "source": [
    "dFrame.corr()"
   ]
  },
  {
   "cell_type": "markdown",
   "metadata": {},
   "source": [
    "Майже всі параматри є мультиколінеарними. Тепер побудуэмо діаграми розсіювання:"
   ]
  },
  {
   "cell_type": "code",
   "execution_count": 13,
   "metadata": {},
   "outputs": [
    {
     "data": {
      "image/png": "[encoded data removed]",
      "text/plain": [
       "<Figure size 1080x1080 with 16 Axes>"
      ]
     },
     "metadata": {
      "needs_background": "light"
     },
     "output_type": "display_data"
    }
   ],
   "source": [
    "p.plotting.scatter_matrix(dFrame, figsize=(15, 15))\n",
    "pyp.show()"
   ]
  },
  {
   "cell_type": "markdown",
   "metadata": {},
   "source": [
    "### 2. Побудування декількох регресійних моделей"
   ]
  },
  {
   "cell_type": "markdown",
   "metadata": {},
   "source": [
    "Побудуємо лінійні та поліноміальні моделі другого порядку для всіх можливих комбінації параметрів:"
   ]
  },
  {
   "cell_type": "code",
   "execution_count": 14,
   "metadata": {},
   "outputs": [],
   "source": [
    "Y = dFrame['Cql']\n",
    "\n",
    "par = [\"Ie\", \"Is\", \"Iec\", [\"Ie\", \"Is\"], [\"Ie\", \"Iec\"], [\"Is\", \"Iec\"], [\"Ie\", \"Is\", \"Iec\"]]\n",
    "\n",
    "lin = []\n",
    "pol = []\n",
    "for i in range(len(par)):\n",
    "    pol.append(make_pipeline(PolynomialFeatures(degree = 2), LinearRegression()))\n",
    "    if i < 3: \n",
    "        lin.append(LinearRegression().fit(dFrame[par[i]].to_numpy().reshape(-1, 1), Y))\n",
    "        pol[i].fit(dFrame[par[i]].to_numpy().reshape(-1, 1), Y)\n",
    "    else :\n",
    "        lin.append(LinearRegression().fit(dFrame[par[i]], Y))\n",
    "        pol[i].fit(dFrame[par[i]], Y)"
   ]
  },
  {
   "cell_type": "markdown",
   "metadata": {},
   "source": [
    "### 3. З'ясування яка з моделей краща"
   ]
  },
  {
   "cell_type": "markdown",
   "metadata": {},
   "source": [
    "Завантажимо тестові дані із Data4t.csv та відкорегуємо їх так само, як й основні дані:"
   ]
  },
  {
   "cell_type": "code",
   "execution_count": 15,
   "metadata": {},
   "outputs": [
    {
     "name": "stdout",
     "output_type": "stream",
     "text": [
      "<class 'pandas.core.frame.DataFrame'>\n",
      "RangeIndex: 5 entries, 0 to 4\n",
      "Data columns (total 7 columns):\n",
      " #   Column   Non-Null Count  Dtype  \n",
      "---  ------   --------------  -----  \n",
      " 0   Country  5 non-null      object \n",
      " 1   ISO      5 non-null      object \n",
      " 2   UA       5 non-null      object \n",
      " 3   Cql      5 non-null      float64\n",
      " 4   Ie       5 non-null      float64\n",
      " 5   Iec      5 non-null      float64\n",
      " 6   Is       5 non-null      float64\n",
      "dtypes: float64(4), object(3)\n",
      "memory usage: 284.0+ bytes\n"
     ]
    },
    {
     "data": {
      "text/html": [
       "<div>\n",
       "<style scoped>\n",
       "    .dataframe tbody tr th:only-of-type {\n",
       "        vertical-align: middle;\n",
       "    }\n",
       "\n",
       "    .dataframe tbody tr th {\n",
       "        vertical-align: top;\n",
       "    }\n",
       "\n",
       "    .dataframe thead th {\n",
       "        text-align: right;\n",
       "    }\n",
       "</style>\n",
       "<table border=\"1\" class=\"dataframe\">\n",
       "  <thead>\n",
       "    <tr style=\"text-align: right;\">\n",
       "      <th></th>\n",
       "      <th>Country</th>\n",
       "      <th>ISO</th>\n",
       "      <th>UA</th>\n",
       "      <th>Cql</th>\n",
       "      <th>Ie</th>\n",
       "      <th>Iec</th>\n",
       "      <th>Is</th>\n",
       "    </tr>\n",
       "  </thead>\n",
       "  <tbody>\n",
       "    <tr>\n",
       "      <th>0</th>\n",
       "      <td>Togo</td>\n",
       "      <td>TGO</td>\n",
       "      <td>Того</td>\n",
       "      <td>0.453498</td>\n",
       "      <td>0.216806</td>\n",
       "      <td>0.368235</td>\n",
       "      <td>0.433951</td>\n",
       "    </tr>\n",
       "    <tr>\n",
       "      <th>1</th>\n",
       "      <td>Tunisia</td>\n",
       "      <td>TUN</td>\n",
       "      <td>Туніс</td>\n",
       "      <td>0.899462</td>\n",
       "      <td>0.659124</td>\n",
       "      <td>0.418256</td>\n",
       "      <td>0.514746</td>\n",
       "    </tr>\n",
       "    <tr>\n",
       "      <th>2</th>\n",
       "      <td>Turkey</td>\n",
       "      <td>TUR</td>\n",
       "      <td>Туреччина</td>\n",
       "      <td>0.859284</td>\n",
       "      <td>0.498840</td>\n",
       "      <td>0.509228</td>\n",
       "      <td>0.499453</td>\n",
       "    </tr>\n",
       "    <tr>\n",
       "      <th>3</th>\n",
       "      <td>Uganda</td>\n",
       "      <td>UGA</td>\n",
       "      <td>Уґанда</td>\n",
       "      <td>0.571284</td>\n",
       "      <td>0.362946</td>\n",
       "      <td>0.448732</td>\n",
       "      <td>0.375726</td>\n",
       "    </tr>\n",
       "    <tr>\n",
       "      <th>4</th>\n",
       "      <td>Ukraine</td>\n",
       "      <td>UKR</td>\n",
       "      <td>Україна</td>\n",
       "      <td>0.802204</td>\n",
       "      <td>0.689164</td>\n",
       "      <td>0.303555</td>\n",
       "      <td>0.462744</td>\n",
       "    </tr>\n",
       "  </tbody>\n",
       "</table>\n",
       "</div>"
      ],
      "text/plain": [
       "   Country  ISO         UA       Cql        Ie       Iec        Is\n",
       "0     Togo  TGO       Того  0.453498  0.216806  0.368235  0.433951\n",
       "1  Tunisia  TUN      Туніс  0.899462  0.659124  0.418256  0.514746\n",
       "2   Turkey  TUR  Туреччина  0.859284  0.498840  0.509228  0.499453\n",
       "3   Uganda  UGA     Уґанда  0.571284  0.362946  0.448732  0.375726\n",
       "4  Ukraine  UKR    Україна  0.802204  0.689164  0.303555  0.462744"
      ]
     },
     "execution_count": 15,
     "metadata": {},
     "output_type": "execute_result"
    }
   ],
   "source": [
    "dFrame_t = read_dataset(\"Data4t.csv\", \";\", \"cp1251\")\n",
    "dFrame_t = data_fix(dFrame_t)\n",
    "\n",
    "dFrame_t.info()\n",
    "dFrame_t.head(5)"
   ]
  },
  {
   "cell_type": "markdown",
   "metadata": {},
   "source": [
    "Підрахуємо передбачувані дані для лінійних та поліноміальних моделей:"
   ]
  },
  {
   "cell_type": "code",
   "execution_count": 16,
   "metadata": {},
   "outputs": [],
   "source": [
    "prediction = []\n",
    "\n",
    "def predict_by(prediction, s):\n",
    "    for i in range(len(par)):\n",
    "        if i < 3:\n",
    "            prediction.append(s[i].predict(dFrame_t[par[i]].to_numpy().reshape(-1, 1)))\n",
    "        else:\n",
    "            prediction.append(s[i].predict(dFrame_t[par[i]]))\n",
    "    return prediction\n",
    "\n",
    "prediction = predict_by(prediction, lin)\n",
    "prediction = predict_by(prediction, pol)"
   ]
  },
  {
   "cell_type": "markdown",
   "metadata": {},
   "source": [
    "Знайдемо найкращу модель:"
   ]
  },
  {
   "cell_type": "code",
   "execution_count": 17,
   "metadata": {},
   "outputs": [
    {
     "name": "stdout",
     "output_type": "stream",
     "text": [
      "Best model is:\n",
      "polynomial model by ['Ie', 'Is', 'Iec'] params\n"
     ]
    }
   ],
   "source": [
    "min_i = n.sum((n.array(prediction)- dFrame_t['Cql'].to_numpy())**2,axis = 1).argmin()\n",
    "\n",
    "print(\"Best model is:\")\n",
    "if (min_i < 6):\n",
    "    print(f\"linear model by {par[min_i]} params\")\n",
    "else:\n",
    "    print(f\"polynomial model by {par[min_i - 7]} params\")"
   ]
  },
  {
   "cell_type": "markdown",
   "metadata": {},
   "source": [
    "Як ми бачимо, найкращою моделлю є поліноміальна модель другого степеня з трьома змінними."
   ]
  }
 ],
 "metadata": {
  "interpreter": {
   "hash": "2315cddde3dffcf9d1fa45e3f1e7267096baab3509bc976ba2d14893f3dac9de"
  },
  "kernelspec": {
   "display_name": "Python 3.8.5 32-bit",
   "language": "python",
   "name": "python3"
  },
  "language_info": {
   "codemirror_mode": {
    "name": "ipython",
    "version": 3
   },
   "file_extension": ".py",
   "mimetype": "text/x-python",
   "name": "python",
   "nbconvert_exporter": "python",
   "pygments_lexer": "ipython3",
   "version": "3.8.5"
  },
  "orig_nbformat": 4
 },
 "nbformat": 4,
 "nbformat_minor": 2
}
