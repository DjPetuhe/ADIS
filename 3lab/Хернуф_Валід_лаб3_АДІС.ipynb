{
  "nbformat": 4,
  "nbformat_minor": 0,
  "metadata": {
    "colab": {
      "name": "Хернуф Валід лаб3 АДІС.ipynb",
      "provenance": [],
      "collapsed_sections": []
    },
    "kernelspec": {
      "name": "python3",
      "display_name": "Python 3"
    },
    "language_info": {
      "name": "python"
    }
  },
  "cells": [
    {
      "cell_type": "markdown",
      "source": [
        "*Міністерство освіти і науки УкраїниНаціональний технічний університет України «КПІ ім. Ігоря Сікорського»*\n",
        "\n",
        "*Факультет інформатики та обчислювальної техніки*\n",
        "\n",
        "*Кафедра інформатики та програмної інженерії*\n",
        "\n",
        "*Аналіз даних в інформаційно-управляючих системах*\n",
        "\n",
        "Виконанав студент:\n",
        "\n",
        "ІП-01 Хернуф Валід Алі-Еддін\n",
        "\n",
        "Київ 2022\n",
        "\n",
        "\n",
        "---\n",
        "\n",
        "\n",
        "# **Звіт до лабораторної роботи №3**\n",
        "\n",
        "\n",
        "\n"
      ],
      "metadata": {
        "id": "_XXyOY7bUVcX"
      }
    },
    {
      "cell_type": "markdown",
      "source": [
        "## **Завдання для самоперевірки**"
      ],
      "metadata": {
        "id": "nxuzgfntV0A_"
      }
    },
    {
      "cell_type": "markdown",
      "source": [
        "Спочатку імпортуємо усі потрібні бібліотеки для праці: pandas та matplotlib для праці з даними, io та google.colab для праці з google colab.\n",
        "\n",
        "Також імпортуємо до google colab файл Data1.csv."
      ],
      "metadata": {
        "id": "R7KUXCZt__b6"
      }
    },
    {
      "cell_type": "code",
      "source": [
        "import matplotlib.pyplot as pyp\n",
        "import pandas as p\n",
        "import io\n",
        "from google.colab import files\n",
        "from google.colab import data_table\n",
        "\n",
        "data_table.enable_dataframe_formatter()\n",
        "\n",
        "uploaded = files.upload();"
      ],
      "metadata": {
        "colab": {
          "resources": {
            "http://localhost:8080/nbextensions/google.colab/files.js": {
              "data": "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",
              "ok": true,
              "headers": [
                [
                  "content-type",
                  "application/javascript"
                ]
              ],
              "status": 200,
              "status_text": ""
            }
          },
          "base_uri": "https://localhost:8080/",
          "height": 74
        },
        "id": "iNsrjkPn-J49",
        "outputId": "333be48a-fcac-4c93-ace0-ebf6fe2d23dc"
      },
      "execution_count": 50,
      "outputs": [
        {
          "output_type": "display_data",
          "data": {
            "text/plain": [
              "<IPython.core.display.HTML object>"
            ],
            "text/html": [
              "\n",
              "     <input type=\"file\" id=\"files-b2e41975-d81b-4789-8c3f-19af05a7bd9d\" name=\"files[]\" multiple disabled\n",
              "        style=\"border:none\" />\n",
              "     <output id=\"result-b2e41975-d81b-4789-8c3f-19af05a7bd9d\">\n",
              "      Upload widget is only available when the cell has been executed in the\n",
              "      current browser session. Please rerun this cell to enable.\n",
              "      </output>\n",
              "      <script src=\"/nbextensions/google.colab/files.js\"></script> "
            ]
          },
          "metadata": {}
        },
        {
          "output_type": "stream",
          "name": "stdout",
          "text": [
            "Saving Data1.csv to Data1 (7).csv\n"
          ]
        }
      ]
    },
    {
      "cell_type": "markdown",
      "source": [
        "### 1.   Скачування даних із файлу Data1.csv \n",
        "\n"
      ],
      "metadata": {
        "id": "_uV-8jm2W5gk"
      }
    },
    {
      "cell_type": "code",
      "source": [
        "def read_dataset(path):\n",
        "    return p.read_csv(io.BytesIO(uploaded[path]), sep=';', encoding='cp1252')\n",
        "    #in regular python script we would use:\n",
        "    #return p.read_csv(path, sep=';', encoding='cp1252')\n",
        "\n",
        "dFrame = read_dataset(\"Data1.csv\")"
      ],
      "metadata": {
        "id": "v8RQFZhg9htW"
      },
      "execution_count": 51,
      "outputs": []
    },
    {
      "cell_type": "markdown",
      "source": [
        "\n",
        "### 2.   Дослідження структури файлу Data1.csv\n"
      ],
      "metadata": {
        "id": "T4gFdjolaEbw"
      }
    },
    {
      "cell_type": "code",
      "source": [
        "def getInfo(data):\n",
        "    data.info()\n",
        "\n",
        "getInfo(dFrame)"
      ],
      "metadata": {
        "colab": {
          "base_uri": "https://localhost:8080/"
        },
        "id": "AlJmI-0PBPQB",
        "outputId": "3c4899f1-e92a-4d97-979c-0d96782685fd"
      },
      "execution_count": 52,
      "outputs": [
        {
          "output_type": "stream",
          "name": "stdout",
          "text": [
            "<class 'pandas.core.frame.DataFrame'>\n",
            "RangeIndex: 136 entries, 0 to 135\n",
            "Data columns (total 7 columns):\n",
            " #   Column                   Non-Null Count  Dtype \n",
            "---  ------                   --------------  ----- \n",
            " 0   Country                  136 non-null    object\n",
            " 1   ISO                      136 non-null    object\n",
            " 2   Conflicts intencity      136 non-null    int64 \n",
            " 3   Hospital beds            136 non-null    object\n",
            " 4   High-technology exports  136 non-null    object\n",
            " 5   GDP per capita           136 non-null    int64 \n",
            " 6   Population               136 non-null    object\n",
            "dtypes: int64(2), object(5)\n",
            "memory usage: 7.6+ KB\n"
          ]
        }
      ]
    },
    {
      "cell_type": "markdown",
      "source": [
        "\n",
        "### 3.   Виведення перших 5 рядків\n"
      ],
      "metadata": {
        "id": "IkVdq1YGaOQ1"
      }
    },
    {
      "cell_type": "code",
      "source": [
        "def print_first_n_rows(data, n):\n",
        "    print(f'\\nFirst{n} rows:')\n",
        "    print(data.head(n))\n",
        "\n",
        "print_first_n_rows(dFrame, 5)"
      ],
      "metadata": {
        "colab": {
          "base_uri": "https://localhost:8080/"
        },
        "id": "-eUyWy0GBWcY",
        "outputId": "4193c8a0-c601-4372-d05b-2289563a96df"
      },
      "execution_count": 53,
      "outputs": [
        {
          "output_type": "stream",
          "name": "stdout",
          "text": [
            "\n",
            "First5 rows:\n",
            "     Country  ISO  Conflicts intencity Hospital beds High-technology exports  \\\n",
            "0    Albania  ALB                    0           2,6                15123662   \n",
            "1    Algeria  DZA                    3                               2449466   \n",
            "2     Angola  AGO                    3                                         \n",
            "3  Argentina  ARG                    1           4,7              1442450760   \n",
            "4    Armenia  ARM                    3           3,9                16565073   \n",
            "\n",
            "   GDP per capita   Population  \n",
            "0         3266790  11926892453  \n",
            "1        26554329   1,5608E+11  \n",
            "2        12553446  89633156470  \n",
            "3        33193918  5,45866E+11  \n",
            "4         3505251  10547331235  \n"
          ]
        }
      ]
    },
    {
      "cell_type": "markdown",
      "source": [
        "### 4.   Виведення останніх 6 рядків"
      ],
      "metadata": {
        "id": "dB_Z1-mpa1dw"
      }
    },
    {
      "cell_type": "code",
      "source": [
        "def print_last_n_rows(data, n):\n",
        "    print(f'\\nLast{n} rows:')\n",
        "    print(data.tail(n))\n",
        "\n",
        "print_last_n_rows(dFrame, 6)"
      ],
      "metadata": {
        "colab": {
          "base_uri": "https://localhost:8080/"
        },
        "id": "2KXTcsvIBfi2",
        "outputId": "f0565f28-7c07-49b6-c1e0-cce14d1564cc"
      },
      "execution_count": 54,
      "outputs": [
        {
          "output_type": "stream",
          "name": "stdout",
          "text": [
            "\n",
            "Last6 rows:\n",
            "                               Country  ISO  Conflicts intencity  \\\n",
            "130                      United States  USA                    3   \n",
            "131                            Uruguay  URY                    0   \n",
            "132  Venezuela, Bolivarian Republic of  VEN                    3   \n",
            "133                           Viet Nam  VNM                    3   \n",
            "134                              Yemen  YEM                    5   \n",
            "135                             Zambia  ZMB                    0   \n",
            "\n",
            "    Hospital beds High-technology exports  GDP per capita   Population  \n",
            "130           2,9             1,53526E+11       252981000  1,85691E+13  \n",
            "131           2,5               266119238         3132050  52419720714  \n",
            "132           0,9                18092984        20332079  3,71006E+11  \n",
            "133                           38735943417        67242400  2,02616E+11  \n",
            "134           0,7                 2946931        12661614  27317605346  \n",
            "135                              36503179         8239732  19551093303  \n"
          ]
        }
      ]
    },
    {
      "cell_type": "markdown",
      "source": [
        "### 5.   Видалення стовпчика з абревіатурами"
      ],
      "metadata": {
        "id": "zv96cfM9bKEU"
      }
    },
    {
      "cell_type": "code",
      "source": [
        "def remove_column(data, column):\n",
        "    return data.drop(column, axis = 1)\n",
        "\n",
        "dFrame = remove_column(dFrame, 'ISO')"
      ],
      "metadata": {
        "id": "5HwnY_92Bpir"
      },
      "execution_count": 55,
      "outputs": []
    },
    {
      "cell_type": "markdown",
      "source": [
        "### 6.   Додавання стовпчика з повним GDP"
      ],
      "metadata": {
        "id": "TNpMppipbz9s"
      }
    },
    {
      "cell_type": "code",
      "source": [
        "def convert_column_to_float(data, column):\n",
        "    data[column] = data[column] .str.replace(',', '.').astype(float)\n",
        "\n",
        "def add_column(data, column, condition):\n",
        "    data[column] = condition\n",
        "\n",
        "def replace_blank_with_zeros(dataset):\n",
        "    return dataset.replace(' ', 0)\n",
        "\n",
        "convert_column_to_float(dFrame, 'Population')\n",
        "add_column(dFrame, 'Total GDP', dFrame['Population'] * dFrame['GDP per capita'])\n",
        "dFrame = replace_blank_with_zeros(dFrame)"
      ],
      "metadata": {
        "id": "NC4mNfiNB34Q"
      },
      "execution_count": 56,
      "outputs": []
    },
    {
      "cell_type": "markdown",
      "source": [
        "### 7.   Виведення всього summary\n",
        "\n",
        "\n"
      ],
      "metadata": {
        "id": "5F8hgQn1dah8"
      }
    },
    {
      "cell_type": "code",
      "source": [
        "print(dFrame.describe())"
      ],
      "metadata": {
        "colab": {
          "base_uri": "https://localhost:8080/"
        },
        "id": "VX1LcH8gCCaL",
        "outputId": "349356bb-7184-4317-fc03-4219ed44c9f0"
      },
      "execution_count": 57,
      "outputs": [
        {
          "output_type": "stream",
          "name": "stdout",
          "text": [
            "       Conflicts intencity  GDP per capita    Population     Total GDP\n",
            "count           136.000000    1.360000e+02  1.360000e+02  1.360000e+02\n",
            "mean              1.977941    3.725446e+07  5.362308e+11  1.632076e+20\n",
            "std               1.532207    1.272781e+08  1.941314e+12  1.184000e+21\n",
            "min               0.000000    7.043900e+04  9.645992e+08  1.005393e+14\n",
            "25%               0.000000    3.502713e+06  1.382807e+10  5.515877e+16\n",
            "50%               3.000000    8.345330e+06  5.240744e+10  4.559736e+17\n",
            "75%               3.000000    2.329577e+07  2.989508e+11  4.711841e+18\n",
            "max               5.000000    1.150780e+09  1.856910e+13  1.288770e+22\n"
          ]
        }
      ]
    },
    {
      "cell_type": "markdown",
      "source": [
        "### 8.   Побудування діаграми розмаху для GDP per capita\n"
      ],
      "metadata": {
        "id": "n3WsRlVtdsJH"
      }
    },
    {
      "cell_type": "code",
      "source": [
        "def do_boxplot(data, title, column):\n",
        "    pyp.figure()\n",
        "    pyp.title(title)\n",
        "    pyp.boxplot(data[column])\n",
        "\n",
        "do_boxplot(dFrame, 'Діаграма розмаху для GDP per capita', 'GDP per capita')\n",
        "pyp.show()"
      ],
      "metadata": {
        "colab": {
          "base_uri": "https://localhost:8080/",
          "height": 281
        },
        "id": "VD12CBchCNIw",
        "outputId": "031f452a-89fa-4e3f-8bcc-85d8be903248"
      },
      "execution_count": 58,
      "outputs": [
        {
          "output_type": "display_data",
          "data": {
            "text/plain": [
              "<Figure size 432x288 with 1 Axes>"
            ],
            "image/png": "[encoded data removed]"
          },
          "metadata": {
            "needs_background": "light"
          }
        }
      ]
    },
    {
      "cell_type": "markdown",
      "source": [
        "### 9.   Побудування графіку залежності High-technology exports від GDP\n"
      ],
      "metadata": {
        "id": "ga9rsYQueQYO"
      }
    },
    {
      "cell_type": "code",
      "source": [
        "def plot_tech_exports_from_gdp_dependency(data):\n",
        "    pyp.figure()\n",
        "    pyp.title('Залежність High-technology exports від GDP per capita')\n",
        "    pyp.xlabel('GDP per capita')\n",
        "    pyp.ylabel('High-technology exports')\n",
        "    pyp.plot(\n",
        "        data['GDP per capita'],\n",
        "        data['High-technology exports'],\n",
        "        '*'\n",
        "    )\n",
        "\n",
        "convert_column_to_float(dFrame, 'High-technology exports')\n",
        "plot_tech_exports_from_gdp_dependency(dFrame)\n",
        "pyp.show()"
      ],
      "metadata": {
        "colab": {
          "base_uri": "https://localhost:8080/",
          "height": 295
        },
        "id": "Qvgolo9pCc-f",
        "outputId": "b4c9c638-6300-4673-91c1-2c18c258d614"
      },
      "execution_count": 59,
      "outputs": [
        {
          "output_type": "display_data",
          "data": {
            "text/plain": [
              "<Figure size 432x288 with 1 Axes>"
            ],
            "image/png": "[encoded data removed]"
          },
          "metadata": {
            "needs_background": "light"
          }
        }
      ]
    },
    {
      "cell_type": "markdown",
      "source": [
        "\n",
        "\n",
        "---\n",
        "\n",
        "\n",
        "## **Основне та додаткове завдання**"
      ],
      "metadata": {
        "id": "9mQFhhaaWoOU"
      }
    },
    {
      "cell_type": "markdown",
      "source": [
        "Спочатку імпортуємо до google colab другий файл"
      ],
      "metadata": {
        "id": "GAbu9cmRD7es"
      }
    },
    {
      "cell_type": "code",
      "source": [
        "uploaded = files.upload();"
      ],
      "metadata": {
        "colab": {
          "resources": {
            "http://localhost:8080/nbextensions/google.colab/files.js": {
              "data": "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",
              "ok": true,
              "headers": [
                [
                  "content-type",
                  "application/javascript"
                ]
              ],
              "status": 200,
              "status_text": ""
            }
          },
          "base_uri": "https://localhost:8080/",
          "height": 74
        },
        "id": "6PKcprnkD4UP",
        "outputId": "542c4966-5dc6-4076-d1ae-ade95c79ec8c"
      },
      "execution_count": 60,
      "outputs": [
        {
          "output_type": "display_data",
          "data": {
            "text/plain": [
              "<IPython.core.display.HTML object>"
            ],
            "text/html": [
              "\n",
              "     <input type=\"file\" id=\"files-f31478d9-9873-4ea1-8b64-ab2b7c788125\" name=\"files[]\" multiple disabled\n",
              "        style=\"border:none\" />\n",
              "     <output id=\"result-f31478d9-9873-4ea1-8b64-ab2b7c788125\">\n",
              "      Upload widget is only available when the cell has been executed in the\n",
              "      current browser session. Please rerun this cell to enable.\n",
              "      </output>\n",
              "      <script src=\"/nbextensions/google.colab/files.js\"></script> "
            ]
          },
          "metadata": {}
        },
        {
          "output_type": "stream",
          "name": "stdout",
          "text": [
            "Saving Data2.csv to Data2 (4).csv\n"
          ]
        }
      ]
    },
    {
      "cell_type": "markdown",
      "source": [
        "### 1.   Скачування даних із файлу Data2.csv\n"
      ],
      "metadata": {
        "id": "WJVWVkB6F-wz"
      }
    },
    {
      "cell_type": "code",
      "source": [
        "#Функція read_dataset є вище у 1 п. завданнь на самоперевірку\n",
        "\n",
        "dFrame = read_dataset(\"Data2.csv\")"
      ],
      "metadata": {
        "id": "U86aSf3iGWvA"
      },
      "execution_count": 66,
      "outputs": []
    },
    {
      "cell_type": "markdown",
      "source": [
        "### 2.   Дослідження структури даних\n"
      ],
      "metadata": {
        "id": "iLUXoCxGHei5"
      }
    },
    {
      "cell_type": "code",
      "source": [
        "#Функція getInfo є вище у 2 п. завданнь на самоперевірку\n",
        "\n",
        "getInfo(dFrame)"
      ],
      "metadata": {
        "colab": {
          "base_uri": "https://localhost:8080/"
        },
        "id": "V6CsrGeCH6QG",
        "outputId": "424c881d-2c6a-4f13-bf63-13e20a04dc8c"
      },
      "execution_count": 67,
      "outputs": [
        {
          "output_type": "stream",
          "name": "stdout",
          "text": [
            "<class 'pandas.core.frame.DataFrame'>\n",
            "RangeIndex: 217 entries, 0 to 216\n",
            "Data columns (total 6 columns):\n",
            " #   Column          Non-Null Count  Dtype  \n",
            "---  ------          --------------  -----  \n",
            " 0   Country Name    217 non-null    object \n",
            " 1   Region          217 non-null    object \n",
            " 2   GDP per capita  190 non-null    object \n",
            " 3   Populatiion     216 non-null    float64\n",
            " 4   CO2 emission    205 non-null    object \n",
            " 5   Area            217 non-null    object \n",
            "dtypes: float64(1), object(5)\n",
            "memory usage: 10.3+ KB\n"
          ]
        }
      ]
    },
    {
      "cell_type": "markdown",
      "source": [
        "### 3.   Виправлення помилки в даних\n",
        "(+ Заміна пропущених значень на середні)"
      ],
      "metadata": {
        "id": "VIfWIMd7IPOA"
      }
    },
    {
      "cell_type": "code",
      "source": [
        "#Функція convert_column_to_float є вище у 6 п. завданнь на самоперевірку\n",
        "\n",
        "def remove_errors(dataSet):\n",
        "    dataSet.rename(columns={'Populatiion' : 'Population'}, inplace = True)\n",
        "    convert_column_to_float(dataSet,'GDP per capita')\n",
        "    convert_column_to_float(dataSet,'CO2 emission')\n",
        "    convert_column_to_float(dataSet,'Area')\n",
        "    change_values(dataSet)\n",
        "\n",
        "def change_values(dataSet):\n",
        "    index = dataSet.index\n",
        "    dataSet.iloc[index[dataSet['Country Name'] == 'Eritrea'], \\\n",
        "                 dataSet.columns.get_loc('Population')] = 3662244\n",
        "    remove_negatives(dataSet, 'GDP per capita')\n",
        "    remove_negatives(dataSet, 'Area')\n",
        "    fill_empty_fields(dataSet, 'GDP per capita')\n",
        "    fill_empty_fields(dataSet, 'CO2 emission')\n",
        "\n",
        "def remove_negatives(dataSet, column):\n",
        "    dataSet[column] = dataSet[column].abs()\n",
        "\n",
        "def fill_empty_fields(dataSet, column):\n",
        "    dataSet[column].fillna(dataSet[column].mean(), inplace = True)\n",
        "\n",
        "remove_errors(dFrame)"
      ],
      "metadata": {
        "id": "7AxIx9kGIWSo"
      },
      "execution_count": 68,
      "outputs": []
    },
    {
      "cell_type": "markdown",
      "source": [
        "Перевірка на те, чи залишились пусті значення"
      ],
      "metadata": {
        "id": "7KoWpWe7StTy"
      }
    },
    {
      "cell_type": "code",
      "source": [
        "print(dFrame.isnull().values.any())"
      ],
      "metadata": {
        "colab": {
          "base_uri": "https://localhost:8080/"
        },
        "id": "U7UbpRigSwED",
        "outputId": "4479b817-5946-4a60-a975-9804edf1b32d"
      },
      "execution_count": 69,
      "outputs": [
        {
          "output_type": "stream",
          "name": "stdout",
          "text": [
            "False\n"
          ]
        }
      ]
    },
    {
      "cell_type": "markdown",
      "source": [
        "### 4.   Побудування діаграм розмаху та гістограм\n"
      ],
      "metadata": {
        "id": "GS9wmOOfOJs6"
      }
    },
    {
      "cell_type": "markdown",
      "source": [
        "Діаграми розмаху:"
      ],
      "metadata": {
        "id": "QukxNKV6TKO_"
      }
    },
    {
      "cell_type": "code",
      "source": [
        "#Функція do_boxplot є вище у 8 п. завданнь на самоперевірку\n",
        "\n",
        "do_boxplot(dFrame,'Діаграма розмаху для CO2 emmision', 'CO2 emission')\n",
        "do_boxplot(dFrame,'Діаграма розмаху для Population', 'Population')\n",
        "do_boxplot(dFrame,'Діаграма розмаху для Area', 'Area')\n",
        "pyp.show()"
      ],
      "metadata": {
        "colab": {
          "base_uri": "https://localhost:8080/",
          "height": 809
        },
        "id": "ufrs2nS-Oxl1",
        "outputId": "f0060f86-bb39-441e-c820-95882d6d5b5b"
      },
      "execution_count": 111,
      "outputs": [
        {
          "output_type": "display_data",
          "data": {
            "text/plain": [
              "<Figure size 432x288 with 1 Axes>"
            ],
            "image/png": "[encoded data removed]"
          },
          "metadata": {
            "needs_background": "light"
          }
        },
        {
          "output_type": "display_data",
          "data": {
            "text/plain": [
              "<Figure size 432x288 with 1 Axes>"
            ],
            "image/png": "[encoded data removed]"
          },
          "metadata": {
            "needs_background": "light"
          }
        },
        {
          "output_type": "display_data",
          "data": {
            "text/plain": [
              "<Figure size 432x288 with 1 Axes>"
            ],
            "image/png": "[encoded data removed]"
          },
          "metadata": {
            "needs_background": "light"
          }
        }
      ]
    },
    {
      "cell_type": "markdown",
      "source": [
        "Гістограми:"
      ],
      "metadata": {
        "id": "qKV9iQhfTNXS"
      }
    },
    {
      "cell_type": "code",
      "source": [
        "def do_hist(dataSet, column):\n",
        "    pyp.hist(dataSet[column])\n",
        "    pyp.show()\n",
        "\n",
        "do_hist(dFrame, 'Area')\n",
        "do_hist(dFrame, 'CO2 emission')\n",
        "do_hist(dFrame, 'Population')\n",
        "do_hist(dFrame, 'GDP per capita')"
      ],
      "metadata": {
        "colab": {
          "base_uri": "https://localhost:8080/",
          "height": 1000
        },
        "id": "kz9nd7VCTPBL",
        "outputId": "52277fd9-de99-4082-dc09-fb918859b3ef"
      },
      "execution_count": 110,
      "outputs": [
        {
          "output_type": "display_data",
          "data": {
            "text/plain": [
              "<Figure size 432x288 with 1 Axes>"
            ],
            "image/png": "[encoded data removed]"
          },
          "metadata": {
            "needs_background": "light"
          }
        },
        {
          "output_type": "display_data",
          "data": {
            "text/plain": [
              "<Figure size 432x288 with 1 Axes>"
            ],
            "image/png": "[encoded data removed]"
          },
          "metadata": {
            "needs_background": "light"
          }
        },
        {
          "output_type": "display_data",
          "data": {
            "text/plain": [
              "<Figure size 432x288 with 1 Axes>"
            ],
            "image/png": "[encoded data removed]"
          },
          "metadata": {
            "needs_background": "light"
          }
        },
        {
          "output_type": "display_data",
          "data": {
            "text/plain": [
              "<Figure size 432x288 with 1 Axes>"
            ],
            "image/png": "[encoded data removed]"
          },
          "metadata": {
            "needs_background": "light"
          }
        }
      ]
    },
    {
      "cell_type": "markdown",
      "source": [
        "### 5.   Додавання стовпчика із щільністю населення"
      ],
      "metadata": {
        "id": "Yv5vhyaiWCFz"
      }
    },
    {
      "cell_type": "code",
      "source": [
        "add_column(dFrame, 'Population density', dFrame['Population'] / dFrame['Area'])"
      ],
      "metadata": {
        "id": "KKa81J0FZfJB"
      },
      "execution_count": 73,
      "outputs": []
    },
    {
      "cell_type": "markdown",
      "source": [
        "### 6.   Країна, що має найбільший ВВП на людину, та країна, що має найменьшу площу"
      ],
      "metadata": {
        "id": "uYiCd_XKaPnG"
      }
    },
    {
      "cell_type": "code",
      "source": [
        "print('\\nНайбільший ВВП по ППС у країни:')\n",
        "print(dFrame['Country Name'][dFrame['GDP per capita'].idxmax()])\n",
        "print('\\nНайменьша площа у країни:')\n",
        "print(dFrame['Country Name'][dFrame['Area'].idxmin()])"
      ],
      "metadata": {
        "colab": {
          "base_uri": "https://localhost:8080/"
        },
        "id": "Y4xwx9x8aaR_",
        "outputId": "cc9d3ba6-b92b-4123-ed1a-ad09b0f86b64"
      },
      "execution_count": 80,
      "outputs": [
        {
          "output_type": "stream",
          "name": "stdout",
          "text": [
            "\n",
            "Найбільший ВВП по ППС у країни:\n",
            "Luxembourg\n",
            "\n",
            "Найменьша площа у країни:\n",
            "Monaco\n"
          ]
        }
      ]
    },
    {
      "cell_type": "markdown",
      "source": [
        "### 7. Регіон, в якому середня площа країн найбільша:"
      ],
      "metadata": {
        "id": "DyIc_dxTelWc"
      }
    },
    {
      "cell_type": "code",
      "source": [
        "print(dFrame.groupby(['Region']).mean()['Area'].idxmax())"
      ],
      "metadata": {
        "colab": {
          "base_uri": "https://localhost:8080/"
        },
        "id": "50gnm0dkgKGA",
        "outputId": "b3cd8063-6586-4830-f8d7-18ffc6626e0e"
      },
      "execution_count": 84,
      "outputs": [
        {
          "output_type": "stream",
          "name": "stdout",
          "text": [
            "North America\n"
          ]
        }
      ]
    },
    {
      "cell_type": "markdown",
      "source": [
        "### 8. Країни з чиїм населенням найчастіше зустрічаються у світі та у Європі?"
      ],
      "metadata": {
        "id": "X8FcdraTiJ5r"
      }
    },
    {
      "cell_type": "code",
      "source": [
        "print('\\nКраїна з чиїм найчастіше зустрічаються найчастіше у світі:')\n",
        "print(dFrame['Country Name'][dFrame['Population'].idxmax()])\n",
        "print('\\nКраїна з чиїм найчастіше зустрічаються найчастіше у Європі:')\n",
        "dFrameEurope = dFrame.loc[dFrame['Region'] == \"Europe & Central Asia\"]\n",
        "print(dFrameEurope['Country Name'][dFrameEurope['Population'].idxmax()])"
      ],
      "metadata": {
        "colab": {
          "base_uri": "https://localhost:8080/"
        },
        "id": "lXziM760jVdg",
        "outputId": "c4fd46b6-f8b0-4289-e58a-70bc769eaeff"
      },
      "execution_count": 93,
      "outputs": [
        {
          "output_type": "stream",
          "name": "stdout",
          "text": [
            "\n",
            "Країна з чиїм найчастіше зустрічаються найчастіше у світі:\n",
            "China\n",
            "\n",
            "Країна з чиїм найчастіше зустрічаються найчастіше у Європі:\n",
            "Russian Federation\n"
          ]
        }
      ]
    },
    {
      "cell_type": "markdown",
      "source": [
        "### 9. Чи співпадає в якомусь регіоні середнє та медіанне ВВП?"
      ],
      "metadata": {
        "id": "mtMEYchat8xe"
      }
    },
    {
      "cell_type": "code",
      "source": [
        "means = dFrame.groupby(['Region']).mean()['GDP per capita']\n",
        "medians = dFrame.groupby(['Region']).median()['GDP per capita']\n",
        "\n",
        "print('Чи співпадає в якомусь регіоні середнє та медіанне ВВП?:')\n",
        "print(p.merge(means, medians).any(axis=None))"
      ],
      "metadata": {
        "colab": {
          "base_uri": "https://localhost:8080/"
        },
        "id": "-3FVfPttuLIS",
        "outputId": "b9857fec-43c6-42f8-e8c8-96be95808709"
      },
      "execution_count": 96,
      "outputs": [
        {
          "output_type": "stream",
          "name": "stdout",
          "text": [
            "Чи співпадає в якомусь регіоні середнє та медіанне ВВП?:\n",
            "False\n"
          ]
        }
      ]
    },
    {
      "cell_type": "markdown",
      "source": [
        "### 10. Топ 5 найкращіх та найгірших країн по ВВП та кількістю CO2 на душу населення:"
      ],
      "metadata": {
        "id": "lL-Fb4HJ5vHm"
      }
    },
    {
      "cell_type": "code",
      "source": [
        "print('\\nТоп 5 найкращіх країн по ВВП по ППС:')\n",
        "print(dFrame.sort_values(by=['GDP per capita'], ascending = False).head(5)['Country Name'])\n",
        "\n",
        "print('\\nТоп 5 найгірших країн по ВВП по ППС:')\n",
        "print(dFrame.sort_values(by=['GDP per capita']).head(5)['Country Name'])"
      ],
      "metadata": {
        "colab": {
          "base_uri": "https://localhost:8080/"
        },
        "id": "k9ARdAsX6Bt2",
        "outputId": "751e10d7-fca3-4112-a797-3d10fe4c72aa"
      },
      "execution_count": 107,
      "outputs": [
        {
          "output_type": "stream",
          "name": "stdout",
          "text": [
            "\n",
            "Топ 5 найкращіх країн по ВВП по ППС:\n",
            "115          Luxembourg\n",
            "188         Switzerland\n",
            "116    Macao SAR, China\n",
            "146              Norway\n",
            "92              Ireland\n",
            "Name: Country Name, dtype: object\n",
            "\n",
            "Топ 5 найгірших країн по ВВП по ППС:\n",
            "31                      Burundi\n",
            "119                      Malawi\n",
            "134                  Mozambique\n",
            "37     Central African Republic\n",
            "118                  Madagascar\n",
            "Name: Country Name, dtype: object\n"
          ]
        }
      ]
    },
    {
      "cell_type": "code",
      "source": [
        "add_column(dFrame, 'CO2 emission per capita', dFrame['CO2 emission'] / dFrame['Population'])\n",
        "\n",
        "print('\\nТоп 5 найкращіх країн по кількості CO2 на душу населення:')\n",
        "print(dFrame.sort_values(by=['CO2 emission per capita'], ascending = False).head(5)['Country Name'])\n",
        "\n",
        "print('\\nТоп 5 найгірших країн по кількості CO2 на душу населення:')\n",
        "print(dFrame.sort_values(by=['CO2 emission per capita']).head(5)['Country Name'])"
      ],
      "metadata": {
        "colab": {
          "base_uri": "https://localhost:8080/"
        },
        "id": "iBwT0t_s9ipq",
        "outputId": "a33dc1e8-f944-4590-ae99-73839333308c"
      },
      "execution_count": 109,
      "outputs": [
        {
          "output_type": "stream",
          "name": "stdout",
          "text": [
            "\n",
            "Топ 5 найкращіх країн по кількості CO2 на душу населення:\n",
            "182    St. Martin (French part)\n",
            "163                  San Marino\n",
            "130                      Monaco\n",
            "145    Northern Mariana Islands\n",
            "3                American Samoa\n",
            "Name: Country Name, dtype: object\n",
            "\n",
            "Топ 5 найгірших країн по кількості CO2 на душу населення:\n",
            "31                      Burundi\n",
            "175                     Somalia\n",
            "38                         Chad\n",
            "44             Congo, Dem. Rep.\n",
            "37     Central African Republic\n",
            "Name: Country Name, dtype: object\n"
          ]
        }
      ]
    }
  ]
}